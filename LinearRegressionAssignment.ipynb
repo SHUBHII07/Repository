{
 "cells": [
  {
   "cell_type": "markdown",
   "metadata": {},
   "source": [
    "1.\tWhat is Regression?"
   ]
  },
  {
   "cell_type": "code",
   "execution_count": null,
   "metadata": {},
   "outputs": [],
   "source": [
    "It is the process of predicting a dependent variable based on the independent features present."
   ]
  },
  {
   "cell_type": "markdown",
   "metadata": {},
   "source": [
    "2.\tWhat is Linear Regression?"
   ]
  },
  {
   "cell_type": "code",
   "execution_count": null,
   "metadata": {},
   "outputs": [],
   "source": [
    "Linear regression which predicts the dependent variable using regression line  based on independent variables"
   ]
  },
  {
   "cell_type": "markdown",
   "metadata": {},
   "source": [
    "3.\tWhen to use Linear Regression? Explain the equation of a straight line."
   ]
  },
  {
   "cell_type": "code",
   "execution_count": null,
   "metadata": {},
   "outputs": [],
   "source": [
    "Linear regression can be used when we have to predict continous/discrete dependent variable.\n",
    "The equation of straight line is\n",
    "y=mx+c\n",
    "whhere y is dependent variable\n",
    "       m is slope of stright line\n",
    "       x is independent variable\n",
    "       c is constant or intercept of stright line on y axis\n",
    "Linear regression model tends to find out the values of m and c and for every x it gets y.\n",
    "Baiscally m is rate of change of y with respect to x.\n",
    "m value is calculated by plotting graph between the error and m."
   ]
  },
  {
   "cell_type": "markdown",
   "metadata": {},
   "source": [
    "4.\tWhat kind of plots will you use to showcase the relationship amongst the columns?"
   ]
  },
  {
   "cell_type": "code",
   "execution_count": null,
   "metadata": {},
   "outputs": [],
   "source": [
    "scatter plot  pairplot distplot"
   ]
  },
  {
   "cell_type": "markdown",
   "metadata": {},
   "source": [
    "5.\tHow is the best fit line chosen?"
   ]
  },
  {
   "cell_type": "code",
   "execution_count": null,
   "metadata": {},
   "outputs": [],
   "source": [
    "It is chossen with help of value of slope where error rate(sum of squared errors) is minimum i.e global minima"
   ]
  },
  {
   "cell_type": "markdown",
   "metadata": {},
   "source": [
    "6.\tWhat is gradient descent, and why is it used? Explain the maths."
   ]
  },
  {
   "cell_type": "code",
   "execution_count": null,
   "metadata": {},
   "outputs": [],
   "source": [
    "Gradient descent is the graph between the error and slope.It is used to get value of m for which the error\n",
    "is minimum.\n",
    "error = actual - predicted\n",
    "r= y-(mx+c)\n",
    "##since we have multiple records to predict,hence we will use sumation both side\n",
    "summation (r) = summation(y-(mx+c))\n",
    "##when we did the summation we find some points have negative error while other have positive.To get the\n",
    "##maginitude only we can square them as we need only magnitude of error.\n",
    "square(summation(r)) = square(summation(y-(mx+c)))\n",
    "## From above we can see that r is function of both m and c so we will patrial differentiate above\n",
    "## equation with respect to m and c\n",
    "The derivatives are equated to o and the minimum of residuals again dependent on slope and intercept.\n",
    "which looks like paraboliod.We will select the value of m where the global minima is reached\n",
    "\n",
    "\n"
   ]
  },
  {
   "cell_type": "markdown",
   "metadata": {},
   "source": [
    "7.\tWhat are residuals?"
   ]
  },
  {
   "cell_type": "code",
   "execution_count": null,
   "metadata": {},
   "outputs": [],
   "source": [
    "Residuals are the error which are difference of actual to predicted values."
   ]
  },
  {
   "cell_type": "markdown",
   "metadata": {},
   "source": [
    "8.\tWhat is correlation?"
   ]
  },
  {
   "cell_type": "code",
   "execution_count": null,
   "metadata": {},
   "outputs": [],
   "source": [
    "Correlation is the relationship between 3 variables"
   ]
  },
  {
   "cell_type": "markdown",
   "metadata": {},
   "source": [
    "9.\tWhat is multicollinearity?"
   ]
  },
  {
   "cell_type": "code",
   "execution_count": null,
   "metadata": {},
   "outputs": [],
   "source": [
    "Multicollinearity is the correlation between 2 independent variables"
   ]
  },
  {
   "cell_type": "markdown",
   "metadata": {},
   "source": [
    "10.\tHow to detect multicollinearity?"
   ]
  },
  {
   "cell_type": "code",
   "execution_count": null,
   "metadata": {},
   "outputs": [],
   "source": [
    "1)Correlation matrix/HeatMap\n",
    "2)Pearson's correlation coefficient"
   ]
  },
  {
   "cell_type": "markdown",
   "metadata": {},
   "source": [
    "11.\tWhat are the remedies for multicollinearity?"
   ]
  },
  {
   "cell_type": "code",
   "execution_count": null,
   "metadata": {},
   "outputs": [],
   "source": [
    "1)Do nothing if the correlation is not so strog.\n",
    "2)Can remove one feature out of two\n",
    "3)Combine the correlated variables"
   ]
  },
  {
   "cell_type": "markdown",
   "metadata": {},
   "source": [
    "12.\tWhat is the R-Squared Statistics?"
   ]
  },
  {
   "cell_type": "code",
   "execution_count": null,
   "metadata": {},
   "outputs": [],
   "source": [
    "R-squared statistics is way to how much our model has fiited the data."
   ]
  },
  {
   "cell_type": "markdown",
   "metadata": {},
   "source": [
    "13.\tWhat is an adjusted R-Squared Statistics?"
   ]
  },
  {
   "cell_type": "code",
   "execution_count": null,
   "metadata": {},
   "outputs": [],
   "source": [
    "It is improved version of r squared as the number of independent variables increase the value of rsquare\n",
    "increase that means the model is not able to get the best fit where it can have all data.So adjusted \n",
    "r sqaured is used where the features which are not  important are penalized"
   ]
  },
  {
   "cell_type": "markdown",
   "metadata": {},
   "source": [
    "14.\tWhy do we use adj R-squared?"
   ]
  },
  {
   "cell_type": "code",
   "execution_count": null,
   "metadata": {},
   "outputs": [],
   "source": [
    "When no of independent fetaures are more and r quared intend to increase we use adjusted r square"
   ]
  },
  {
   "cell_type": "markdown",
   "metadata": {},
   "source": [
    "15.\tWhy adj R-squared decreases when we use incompetent variables?\n",
    "\n"
   ]
  },
  {
   "cell_type": "code",
   "execution_count": null,
   "metadata": {},
   "outputs": [],
   "source": [
    "Because  adjusted r squared pinealizes the incompetent features"
   ]
  },
  {
   "cell_type": "markdown",
   "metadata": {},
   "source": [
    "16.\tHow to interpret a Linear Regression model?"
   ]
  },
  {
   "cell_type": "code",
   "execution_count": null,
   "metadata": {},
   "outputs": [],
   "source": [
    "The getting the values for slope and intercept m and c we can interpret the linear regression model"
   ]
  },
  {
   "cell_type": "markdown",
   "metadata": {},
   "source": [
    "17.\tWhat is the difference between fit, fit_transform and predict methods?"
   ]
  },
  {
   "cell_type": "code",
   "execution_count": null,
   "metadata": {},
   "outputs": [],
   "source": [
    "1)fit performs the training of the model\n",
    "2)fit_transform does both the fitting and the transforming in one possibly optimized step.\n",
    "3)predict performs the prediction on model trained."
   ]
  },
  {
   "cell_type": "markdown",
   "metadata": {},
   "source": [
    "18.\tHow do you plot the least squared line?"
   ]
  },
  {
   "cell_type": "code",
   "execution_count": null,
   "metadata": {},
   "outputs": [],
   "source": [
    "The least squared line is the graph between actaul and predicted value."
   ]
  },
  {
   "cell_type": "markdown",
   "metadata": {},
   "source": [
    "19.\tWhat are Bias and Variance? What is Bias Variance Trade-off?"
   ]
  },
  {
   "cell_type": "code",
   "execution_count": null,
   "metadata": {},
   "outputs": [],
   "source": [
    "Bias is the phenomenon when our model tries to remember every data point and predicts well on tarining\n",
    "points but when it see new data,it is unable to predict.\n",
    "\n",
    "While variance is condition when the model is not able to perform both on tarining an well as  testing data\n"
   ]
  },
  {
   "cell_type": "markdown",
   "metadata": {},
   "source": [
    "20.\tWhat is the null and alternate hypothesis?"
   ]
  },
  {
   "cell_type": "code",
   "execution_count": null,
   "metadata": {},
   "outputs": [],
   "source": [
    "Hypothesis is statistical test to determine particular statement is correct or not.\n",
    "Null hypothesis is the statement whcih support our agrument and alternate hypothesis is opposite to \n",
    "null hypothesis.\n"
   ]
  },
  {
   "cell_type": "markdown",
   "metadata": {},
   "source": [
    "21.\tWhat is multiple linear regression?"
   ]
  },
  {
   "cell_type": "code",
   "execution_count": null,
   "metadata": {},
   "outputs": [],
   "source": [
    "Thee linear regression where we have multiple independent features to predict the output that is \n",
    "known as multiple linear regression."
   ]
  },
  {
   "cell_type": "markdown",
   "metadata": {},
   "source": [
    "22.\tWhat is the OLS method? Derive the formulae used in the OLS method."
   ]
  },
  {
   "cell_type": "code",
   "execution_count": null,
   "metadata": {},
   "outputs": [],
   "source": [
    "ordinary least squares (OLS) is a type of linear least squares method for estimating the unknown parameters in a linear regression model. "
   ]
  },
  {
   "cell_type": "markdown",
   "metadata": {},
   "source": [
    "23.\tWhat is the p-value? How does it help in feature selection?"
   ]
  },
  {
   "cell_type": "code",
   "execution_count": null,
   "metadata": {},
   "outputs": [],
   "source": [
    "p value is the confidence level above which we can rejct the null hypothesis."
   ]
  },
  {
   "cell_type": "markdown",
   "metadata": {},
   "source": [
    "24.\tHow to handle categorical values in the data?"
   ]
  },
  {
   "cell_type": "code",
   "execution_count": null,
   "metadata": {},
   "outputs": [],
   "source": [
    "Categorical variables can be handled in below ways\n",
    "1)manually mapping labels \n",
    "2)label encoding library from sklearn.preprocessing\n",
    "3)one hot encoding"
   ]
  },
  {
   "cell_type": "markdown",
   "metadata": {},
   "source": [
    "25.\tWhat is regularization, and why do we need it?"
   ]
  },
  {
   "cell_type": "code",
   "execution_count": null,
   "metadata": {},
   "outputs": [],
   "source": [
    "Regularization is the process of restricting the dregree of freedom of eqaution.\n",
    "It is need to reduce the overfitting."
   ]
  },
  {
   "cell_type": "markdown",
   "metadata": {},
   "source": [
    "26.\tExplain Ridge Regression."
   ]
  },
  {
   "cell_type": "code",
   "execution_count": null,
   "metadata": {},
   "outputs": [],
   "source": [
    "Ridge is regularization regression model which penalizes the model based on sum of square of\n",
    "magnitude."
   ]
  },
  {
   "cell_type": "markdown",
   "metadata": {},
   "source": [
    "27.\tExplain Lasso Regression."
   ]
  },
  {
   "cell_type": "code",
   "execution_count": null,
   "metadata": {},
   "outputs": [],
   "source": [
    "Lasso is regularization model where it penalizes the model based on sum of magnitude of coefficient. "
   ]
  },
  {
   "cell_type": "markdown",
   "metadata": {},
   "source": [
    "28.\tExplain Elastic Net."
   ]
  },
  {
   "cell_type": "code",
   "execution_count": null,
   "metadata": {},
   "outputs": [],
   "source": [
    "It is middle ground between lasso and ridge regression."
   ]
  },
  {
   "cell_type": "markdown",
   "metadata": {},
   "source": [
    "29.\tWhy do we do a train test split?"
   ]
  },
  {
   "cell_type": "code",
   "execution_count": null,
   "metadata": {},
   "outputs": [],
   "source": [
    "As to evlaute the model which we have created,it is necessary to test it so we keep some portion of data \n",
    "unseen to model and give some data while training.After training on this data we test model on test data."
   ]
  },
  {
   "cell_type": "markdown",
   "metadata": {},
   "source": [
    "30.\tWhat is polynomial regression? When to use it?"
   ]
  },
  {
   "cell_type": "code",
   "execution_count": null,
   "metadata": {},
   "outputs": [],
   "source": [
    "Polynomial regression is mechanism to predict a dependent variable based on polynomial relationship\n",
    "with independent variable.\n",
    "\n",
    "When the relationship between independent and dependnet variable is not linear we can go of poynomial \n",
    "regression."
   ]
  },
  {
   "cell_type": "markdown",
   "metadata": {},
   "source": [
    "31.\tExplain the steps for GCP deployment."
   ]
  },
  {
   "cell_type": "code",
   "execution_count": null,
   "metadata": {},
   "outputs": [],
   "source": [
    "Step 1 Model creation\n",
    "step 2 Training of model\n",
    "step 3 Saved the model\n",
    "step 4 Create a web application using flask so that user can use it.\n",
    "step 5 Load the save model\n",
    "step 6 DO the predictions\n",
    "step 7 Varifying the prediction\n",
    "step 8 Coogle cloud deployment\n",
    "     *Create GCP acount\n",
    "     *Go to IAM and admin(highlighted) and click manage resources\n",
    "     *Click CREATE PROJECT to create a new project for deployment.\n",
    "\n",
    "     *Once the project gets created, select App Engine and select Dashboard.\n",
    "        \n",
    "      *Go to https://dl.google.com/dl/cloudsdk/channels/rapid/GoogleCloudSDKInstaller.exe to download the google cloud SDK to your machine.\n",
    "\n",
    "     *Click Start Tutorial on the screen and select Python app and click star\n",
    "    * Check whether the correct project name is displayed and then click next.\n",
    "     *Create a file ‘app.yaml’ and put ‘runtime: python37’ in that file.\n",
    "\n",
    "     *Create a ‘requirements.txt’ file by opening the command prompt/anaconda prompt, \n",
    "    navigate to the project folder and enter the command ‘pip freeze > requirements.txt’. It is recommended to use separate environments for different projects.\n",
    "\n",
    "       *Your python application file should be called ‘main.py’. It is a GCP specific requirement.\n",
    "\n",
    "    *Open command prompt window, navigate to the project folder and enter the command \n",
    "    gcloud init to initialise the gcloud context.\n",
    "\n",
    "    *It asks you to select from the list of available projects.\n",
    "    *Once the project name is selected, enter the command gcloud app deploy app.yaml --project\n",
    "\n",
    "    *After executing the above command, GCP will ask you to enter the region for your \n",
    "    application. Choose the appropriate one.\n",
    "    \n",
    "    *GCP will ask for the services to be deployed. Enter ‘y’ to deploy the services.\n",
    "\n",
    "    *And then it will give you the link for your app,and the deployed app looks like:"
   ]
  },
  {
   "cell_type": "markdown",
   "metadata": {},
   "source": [
    "32. What difficulties did you face in cloud deployment?"
   ]
  },
  {
   "cell_type": "code",
   "execution_count": null,
   "metadata": {},
   "outputs": [],
   "source": [
    "I dont have credit card so unable to do the deployment on cloud."
   ]
  }
 ],
 "metadata": {
  "kernelspec": {
   "display_name": "Python 3",
   "language": "python",
   "name": "python3"
  },
  "language_info": {
   "codemirror_mode": {
    "name": "ipython",
    "version": 3
   },
   "file_extension": ".py",
   "mimetype": "text/x-python",
   "name": "python",
   "nbconvert_exporter": "python",
   "pygments_lexer": "ipython3",
   "version": "3.7.6"
  }
 },
 "nbformat": 4,
 "nbformat_minor": 2
}
